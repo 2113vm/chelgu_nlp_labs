{
 "cells": [
  {
   "cell_type": "markdown",
   "metadata": {},
   "source": [
    "### imports"
   ]
  },
  {
   "cell_type": "code",
   "execution_count": 1,
   "metadata": {},
   "outputs": [],
   "source": [
    "from tqdm import tqdm_notebook\n",
    "from collections import Counter, defaultdict\n",
    "from pprint import pprint"
   ]
  },
  {
   "cell_type": "markdown",
   "metadata": {},
   "source": [
    "### data exploration"
   ]
  },
  {
   "cell_type": "code",
   "execution_count": 2,
   "metadata": {},
   "outputs": [],
   "source": [
    "with open('data/odict.csv', encoding='cp1251') as f:\n",
    "    data = f.readlines()"
   ]
  },
  {
   "cell_type": "code",
   "execution_count": 3,
   "metadata": {},
   "outputs": [],
   "source": [
    "data = [d.strip() for d in data]"
   ]
  },
  {
   "cell_type": "code",
   "execution_count": 4,
   "metadata": {},
   "outputs": [
    {
     "data": {
      "text/plain": [
       "['абажур,м,абажура,абажуру,абажур,абажуром,абажуре,абажуре,абажуры,абажуров,абажурам,абажуры,абажурами,абажурах,абажурах',\n",
       " 'абажурный,п,абажурного,абажурному,абажурный,абажурным,абажурном,абажурном,абажурен,абажурная,абажурной,абажурной,абажурную,абажурной,абажурной,абажурной,абажурна,абажурное,абажурного,абажурному,абажурное,абажурным,абажурном,абажурном,абажурно,абажурные,абажурных,абажурным,абажурные,абажурными,абажурных,абажурных,абажурны,абажурнее,абажурней,поабажурнее,поабажурней,абажурною']"
      ]
     },
     "execution_count": 4,
     "metadata": {},
     "output_type": "execute_result"
    }
   ],
   "source": [
    "data[10:12]"
   ]
  },
  {
   "cell_type": "code",
   "execution_count": 5,
   "metadata": {},
   "outputs": [
    {
     "data": {
      "text/plain": [
       "Counter({'межд.': 185,\n",
       "         'с': 6475,\n",
       "         'союз': 87,\n",
       "         'част.': 110,\n",
       "         'ж': 15243,\n",
       "         'м': 14377,\n",
       "         'п': 21375,\n",
       "         'мо': 9393,\n",
       "         'жо': 3769,\n",
       "         'св-нсв': 906,\n",
       "         'н': 1435,\n",
       "         'вводн.': 65,\n",
       "         'нсв': 12554,\n",
       "         'мн.': 1021,\n",
       "         'св': 14364,\n",
       "         'предл.': 127,\n",
       "         'предик.': 281,\n",
       "         'мо-жо': 419,\n",
       "         'со': 42,\n",
       "         'сравн.': 37,\n",
       "         'мс-п': 51,\n",
       "         'числ.-п': 39,\n",
       "         'числ.': 63})"
      ]
     },
     "execution_count": 5,
     "metadata": {},
     "output_type": "execute_result"
    }
   ],
   "source": [
    "c = Counter([d.split(',')[1] for d in data])\n",
    "c"
   ]
  },
  {
   "cell_type": "code",
   "execution_count": 6,
   "metadata": {},
   "outputs": [],
   "source": [
    "stats = defaultdict(lambda: [])\n",
    "\n",
    "for line in data:\n",
    "    lemma, value, *other_words = line.split(',')\n",
    "    if len(stats[value]) < 5:\n",
    "        stats[value].append(lemma)\n",
    "    "
   ]
  },
  {
   "cell_type": "code",
   "execution_count": 7,
   "metadata": {},
   "outputs": [
    {
     "name": "stdout",
     "output_type": "stream",
     "text": [
      "defaultdict(<function <lambda> at 0x10c019290>,\n",
      "            {'вводн.': ['авось',\n",
      "                        'безусловно',\n",
      "                        'бесспорно',\n",
      "                        'бывало',\n",
      "                        'в-восьмых'],\n",
      "             'ж': ['Ааре', 'аароновщина', 'аба', 'Аба', 'Абаза'],\n",
      "             'жо': ['абазинка',\n",
      "                    'аббатиса',\n",
      "                    'абитуриентка',\n",
      "                    'абонентка',\n",
      "                    'абхазка'],\n",
      "             'м': ['Аахен', 'Абадан', 'абажур', 'абажуродержатель', 'абаз'],\n",
      "             'межд.': ['а', 'ага', 'агу', 'ай', 'ай-ай-ай'],\n",
      "             'мн.': ['автовесы',\n",
      "                     'автогонки',\n",
      "                     'автозапчасти',\n",
      "                     'авторские',\n",
      "                     'автосани'],\n",
      "             'мо': ['абазин', 'абазинец', 'Абай', 'абаканец', 'Абакум'],\n",
      "             'мо-жо': ['балаболка', 'балабошка', 'балда', 'бариста', 'бариста'],\n",
      "             'мс-п': ['ваш', 'весь', 'всякий', 'данный', 'другой'],\n",
      "             'н': ['авансом', 'адажио', 'адски', 'алегретто', 'аллегро'],\n",
      "             'нсв': ['авралить',\n",
      "                     'агитировать',\n",
      "                     'агонизировать',\n",
      "                     'адвокатствовать',\n",
      "                     'администрировать'],\n",
      "             'п': ['абажурный',\n",
      "                   'абазинский',\n",
      "                   'абаканский',\n",
      "                   'аббатский',\n",
      "                   'аббревиатурный'],\n",
      "             'предик.': ['амба', 'аминь', 'бабах', 'бах', 'бац'],\n",
      "             'предл.': ['а-ля', 'без', 'безо', 'благодаря', 'близ'],\n",
      "             'с': ['а',\n",
      "                   'аббатство',\n",
      "                   'Аберзее',\n",
      "                   'аблактирование',\n",
      "                   'абонирование'],\n",
      "             'св': ['айкнуть',\n",
      "                    'арестовать',\n",
      "                    'атукнуть',\n",
      "                    'аукнуть',\n",
      "                    'аукнуться'],\n",
      "             'св-нсв': ['аблактировать',\n",
      "                        'абонировать',\n",
      "                        'абонироваться',\n",
      "                        'абордировать',\n",
      "                        'абортировать'],\n",
      "             'со': ['бебе', 'беспозвоночное', 'детище', 'дитятко', 'жвачное'],\n",
      "             'союз': ['а', 'абы', 'аж', 'али', 'аль'],\n",
      "             'сравн.': ['более', 'больше', 'вернее', 'восточнее', 'выше'],\n",
      "             'част.': ['а', 'абы', 'авось', 'ага', 'аж'],\n",
      "             'числ.': ['восемнадцать',\n",
      "                       'восемь',\n",
      "                       'восемьдесят',\n",
      "                       'восемьсот',\n",
      "                       'восьмеро'],\n",
      "             'числ.-п': ['восемнадцатый',\n",
      "                         'восьмидесятый',\n",
      "                         'восьмисотый',\n",
      "                         'восьмой',\n",
      "                         'второй']})\n"
     ]
    }
   ],
   "source": [
    "pprint(stats)"
   ]
  },
  {
   "cell_type": "markdown",
   "metadata": {},
   "source": [
    "### Task"
   ]
  },
  {
   "cell_type": "markdown",
   "metadata": {},
   "source": [
    "**Задача**: Лемматизировать текст (привести к словарной форме) и приписать леммам частеречные теги.  \n",
    "Для решения задачи вы можете использовать данные, которые упоминались в лекциях: например, словарь oDict, разметку OpenCorpora и др. Для решения задачи нельзя использовать существующие морфологические анализаторы (mystem, pymorphy и т.п.).\n",
    "\n",
    "**Ввод**: предложения вида \"токен1 токен2 ... токенN\" с расставленными знаками препинания, разделенные переносом строки. Из знаков препинания в предложениях могут содержаться только запятая, точка, вопросительный и восклицательный знаки.\n",
    "\n",
    "**Вывод**: для каждого предложения из входных данных вывод в виде \"токен1{лемма1=тег1} токен2{лемма2= тег2} ... токенN{леммаN=тегN}\" без исходных знаков препинания. Разделитель между токенами -- пробельный символ.\n",
    "\n",
    "При лемматизации буквы е и ё, а также написание с прописной/строчной буквы признаются равноправными. Частеречные теги должны быть приведены к следующему инвентарю: \n",
    "1. существительные (S),\n",
    "2. прилагательные (A), \n",
    "3. глаголы, в том числе причастия и деепричастия (V), \n",
    "4. предлоги (PR), \n",
    "5. союзы (CONJ), \n",
    "6. сборная категория (ADV), включающая наречия, вводные слова, частицы, междометия. \n",
    "В оценке не участвуют и могут быть размечены любым образом (в приведенном примере -- тег NI) местоимения (включая наречные и предикативные), числительные, а также составные предлоги и союзы (потому что, в течение  и т.п.).\n",
    "\n",
    "Результат оценки -- доля правильно определенных пар {лемма=тег}. Иногда для получения более детальной информации об ошибке требуется обновить страницу.\n"
   ]
  },
  {
   "cell_type": "markdown",
   "metadata": {},
   "source": [
    "**Sample Input:**\n",
    "Стала стабильнее экономическая и политическая обстановка, предприятия вывели из тени зарплаты сотрудников.\n",
    "Все Гришины одноклассники уже побывали за границей, он был чуть ли не единственным, кого не вывозили никуда дальше Красной Пахры.\n",
    "\n",
    "**Sample Output:**\n",
    "Стала{стать=V} стабильнее{стабильный=A} экономическая{экономический=A} и{и=CONJ} политическая{политический=A} обстановка{обстановка=S} предприятия{предприятие=S} вывели{вывести=V} из{из=PR} тени{тень=S} зарплаты{зарплата=S} сотрудников{сотрудник=S}\n",
    "Все{весь=NI} Гришины{гришин=A} одноклассники{одноклассник=S} уже{уже=ADV} побывали{побывать=V} за{за=PR} границей{граница=S} он{он=NI} был{быть=V} чуть{чуть=ADV} ли{ли=ADV} не{не=ADV} единственным{единственный=A} кого{кто=NI} не{не=ADV} вывозили{вывозить=V} никуда{никуда=NI} дальше{далеко=ADV} Красной{красный=A} Пахры{Пахра=S}"
   ]
  },
  {
   "cell_type": "code",
   "execution_count": null,
   "metadata": {},
   "outputs": [],
   "source": []
  },
  {
   "cell_type": "code",
   "execution_count": 8,
   "metadata": {},
   "outputs": [],
   "source": [
    "class Corpus:\n",
    "    \n",
    "    mapper = {\n",
    "    'межд.': 'ADV',\n",
    "    'с': 'S',\n",
    "    'союз': 'CONJ',\n",
    "    'част.': 'ADV',\n",
    "    'ж': 'S',\n",
    "    'м': 'S',\n",
    "    'п': 'A',\n",
    "    'мо': 'S',\n",
    "    'жо': 'S',\n",
    "    'св-нсв': 'V',\n",
    "    'н': 'ADV',\n",
    "    'вводн.': 'ADV',\n",
    "    'нсв': 'V',\n",
    "    'мн.': 'S',\n",
    "    'св': 'V',\n",
    "    'предл.': 'PR',\n",
    "    'предик.': 'ADV',\n",
    "    'мо-жо': 'S',\n",
    "    'со': 'S',\n",
    "    'сравн.': 'ADV',\n",
    "    'мс-п': 'ADV',\n",
    "    'числ.-п': 'ADV',\n",
    "    'числ.': 'ADV'\n",
    "    }\n",
    "    \n",
    "    def __init__(self, corpus_path='data/odict.csv'):\n",
    "        \"\"\"\n",
    "        Reading and processing oDict corpus\n",
    "        \"\"\"\n",
    "        \n",
    "        self.corpus = {}\n",
    "        \n",
    "        with open(corpus_path, encoding='cp1251') as f:\n",
    "            raw_corpus = f.readlines()\n",
    "            \n",
    "        for line in tqdm_notebook(raw_corpus):\n",
    "            lemma, value, *other_words = line.split(',')\n",
    "        \n",
    "            for word in other_words:\n",
    "                self.corpus[word] = {'lemma': lemma, 'value': self.mapper[value]}\n",
    "            self.corpus[lemma] = {'lemma': lemma, 'value': self.mapper[value]}\n",
    "                \n",
    "        print('Read complited')\n",
    "        \n",
    "    def get(self, word):\n",
    "        \"\"\"\n",
    "        Get lemma from corpus\n",
    "        \"\"\"\n",
    "        return self.corpus.get(word.lower(), {'lemma': word.lower(), 'value': 'S'})\n",
    "    \n",
    "    def get_str(self, word):\n",
    "        \"\"\"\n",
    "        Get string like Word{word=S}. For example, get_str(Рука) -> Рука{рука=S}\n",
    "        \"\"\"\n",
    "        word_meaning = self.get(word)\n",
    "        lemma, value = word_meaning.get('lemma'), word_meaning.get('value')\n",
    "        return word + '{' + f'{lemma}={value}' + '}'"
   ]
  },
  {
   "cell_type": "markdown",
   "metadata": {},
   "source": [
    "### answer"
   ]
  },
  {
   "cell_type": "code",
   "execution_count": 9,
   "metadata": {},
   "outputs": [
    {
     "name": "stderr",
     "output_type": "stream",
     "text": [
      "/Users/vitaly/PycharmProjects/chelgu_nlp_labs/venv/lib/python3.7/site-packages/ipykernel_launcher.py:39: TqdmDeprecationWarning: This function will be removed in tqdm==5.0.0\n",
      "Please use `tqdm.notebook.tqdm` instead of `tqdm.tqdm_notebook`\n"
     ]
    },
    {
     "data": {
      "application/vnd.jupyter.widget-view+json": {
       "model_id": "b76ca0c3d5084188852333aff37679d1",
       "version_major": 2,
       "version_minor": 0
      },
      "text/plain": [
       "HBox(children=(FloatProgress(value=0.0, max=102418.0), HTML(value='')))"
      ]
     },
     "metadata": {},
     "output_type": "display_data"
    },
    {
     "name": "stdout",
     "output_type": "stream",
     "text": [
      "\n",
      "Read complited\n"
     ]
    }
   ],
   "source": [
    "corpus = Corpus()"
   ]
  },
  {
   "cell_type": "code",
   "execution_count": 10,
   "metadata": {},
   "outputs": [],
   "source": [
    "with open('data/dataset_37845_1.txt') as f:\n",
    "    text = f.readlines()"
   ]
  },
  {
   "cell_type": "code",
   "execution_count": 11,
   "metadata": {},
   "outputs": [],
   "source": [
    "result = []\n",
    "\n",
    "for line in text:\n",
    "    result.append(' '.join([corpus.get_str(word.strip(',').strip('!').strip('?').strip('.')) \n",
    "                            for word in line.split()]))\n",
    "    \n",
    "with open('answer.txt', mode='w') as f:\n",
    "    f.write('\\n'.join(result))\n",
    "    "
   ]
  },
  {
   "cell_type": "code",
   "execution_count": null,
   "metadata": {},
   "outputs": [],
   "source": []
  }
 ],
 "metadata": {
  "kernelspec": {
   "display_name": "Python 3",
   "language": "python",
   "name": "python3"
  },
  "language_info": {
   "codemirror_mode": {
    "name": "ipython",
    "version": 3
   },
   "file_extension": ".py",
   "mimetype": "text/x-python",
   "name": "python",
   "nbconvert_exporter": "python",
   "pygments_lexer": "ipython3",
   "version": "3.7.4"
  }
 },
 "nbformat": 4,
 "nbformat_minor": 2
}
