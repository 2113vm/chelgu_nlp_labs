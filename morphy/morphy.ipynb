{
 "cells": [
  {
   "cell_type": "code",
   "execution_count": 1,
   "metadata": {},
   "outputs": [],
   "source": [
    "with open('data/odict.csv', encoding='cp1251') as f:\n",
    "    data = f.readlines()"
   ]
  },
  {
   "cell_type": "code",
   "execution_count": 5,
   "metadata": {},
   "outputs": [],
   "source": [
    "data = [d.strip() for d in data]"
   ]
  },
  {
   "cell_type": "code",
   "execution_count": 12,
   "metadata": {},
   "outputs": [
    {
     "data": {
      "text/plain": [
       "'вогнуться,св,вогнулся,вогнулась,вогнулось,вогнулись,вогнусь,вогнёшься,вогнётся,вогнёмся,вогнётесь,вогнутся,вогнувшийся,вогнувшегося,вогнувшемуся,вогнувшийся,вогнувшимся,вогнувшемся,вогнувшемся,вогнувшаяся,вогнувшейся,вогнувшейся,вогнувшуюся,вогнувшейся,вогнувшейся,вогнувшейся,вогнувшееся,вогнувшегося,вогнувшемуся,вогнувшееся,вогнувшимся,вогнувшемся,вогнувшемся,вогнувшиеся,вогнувшихся,вогнувшимся,вогнувшиеся,вогнувшимися,вогнувшихся,вогнувшихся,вогнувшеюся,вогнувшись,вогнись,вогнитесь'"
      ]
     },
     "execution_count": 12,
     "metadata": {},
     "output_type": "execute_result"
    }
   ],
   "source": [
    "data[10000]"
   ]
  },
  {
   "cell_type": "code",
   "execution_count": 14,
   "metadata": {},
   "outputs": [],
   "source": [
    "with open('data/zalizniak.txt', encoding='cp1251') as f:\n",
    "    voc = f.readlines()"
   ]
  },
  {
   "cell_type": "code",
   "execution_count": 23,
   "metadata": {},
   "outputs": [
    {
     "data": {
      "text/plain": [
       "'алиментный 5 п 1*а\\n'"
      ]
     },
     "execution_count": 23,
     "metadata": {},
     "output_type": "execute_result"
    }
   ],
   "source": [
    "voc[2000]"
   ]
  },
  {
   "cell_type": "code",
   "execution_count": null,
   "metadata": {},
   "outputs": [],
   "source": []
  }
 ],
 "metadata": {
  "kernelspec": {
   "display_name": "Python 3",
   "language": "python",
   "name": "python3"
  },
  "language_info": {
   "codemirror_mode": {
    "name": "ipython",
    "version": 3
   },
   "file_extension": ".py",
   "mimetype": "text/x-python",
   "name": "python",
   "nbconvert_exporter": "python",
   "pygments_lexer": "ipython3",
   "version": "3.7.3"
  }
 },
 "nbformat": 4,
 "nbformat_minor": 2
}
