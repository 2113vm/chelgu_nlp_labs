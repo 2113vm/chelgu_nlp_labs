{
 "cells": [
  {
   "cell_type": "code",
   "execution_count": 1,
   "metadata": {},
   "outputs": [],
   "source": [
    "import pandas as pd\n",
    "from tqdm import tqdm_notebook\n",
    "import numpy as np\n",
    "from scipy.sparse import csr_matrix, lil_matrix\n",
    "\n",
    "from bimodel import BigramModel"
   ]
  },
  {
   "cell_type": "code",
   "execution_count": 2,
   "metadata": {},
   "outputs": [],
   "source": [
    "df_news = pd.read_csv('../shingling/data/news.csv', sep=';')"
   ]
  },
  {
   "cell_type": "code",
   "execution_count": 3,
   "metadata": {},
   "outputs": [
    {
     "data": {
      "text/plain": [
       "(103176, 4)"
      ]
     },
     "execution_count": 3,
     "metadata": {},
     "output_type": "execute_result"
    },
    {
     "data": {
      "text/plain": [
       "(103176, 4)"
      ]
     },
     "execution_count": 3,
     "metadata": {},
     "output_type": "execute_result"
    }
   ],
   "source": [
    "df_news.shape"
   ]
  },
  {
   "cell_type": "code",
   "execution_count": 4,
   "metadata": {},
   "outputs": [
    {
     "data": {
      "text/html": [
       "<div>\n",
       "<style scoped>\n",
       "    .dataframe tbody tr th:only-of-type {\n",
       "        vertical-align: middle;\n",
       "    }\n",
       "\n",
       "    .dataframe tbody tr th {\n",
       "        vertical-align: top;\n",
       "    }\n",
       "\n",
       "    .dataframe thead th {\n",
       "        text-align: right;\n",
       "    }\n",
       "</style>\n",
       "<table border=\"1\" class=\"dataframe\">\n",
       "  <thead>\n",
       "    <tr style=\"text-align: right;\">\n",
       "      <th></th>\n",
       "      <th>url</th>\n",
       "      <th>date</th>\n",
       "      <th>news_headline</th>\n",
       "      <th>news_body</th>\n",
       "    </tr>\n",
       "  </thead>\n",
       "  <tbody>\n",
       "    <tr>\n",
       "      <th>0</th>\n",
       "      <td>https://lenta.ru/news/2019/05/22/gotepisodes/</td>\n",
       "      <td>2019-05-22T17:36:00+03:00</td>\n",
       "      <td>Названа лучшая серия «Игры престолов»</td>\n",
       "      <td>Британское издание The Guardian составило рейт...</td>\n",
       "    </tr>\n",
       "    <tr>\n",
       "      <th>1</th>\n",
       "      <td>https://lenta.ru/news/2019/01/09/challenge/</td>\n",
       "      <td>2019-01-09T18:16:00+03:00</td>\n",
       "      <td>Россию причислили к «внешним вызовам» для Евро...</td>\n",
       "      <td>Заместитель председателя Европейской комиссии ...</td>\n",
       "    </tr>\n",
       "    <tr>\n",
       "      <th>2</th>\n",
       "      <td>https://lenta.ru/news/2019/01/29/x35/</td>\n",
       "      <td>2019-01-29T19:53:00+03:00</td>\n",
       "      <td>Создатель супероружия России признал ракетные ...</td>\n",
       "      <td>Украина способна разрабатывать ракетное вооруж...</td>\n",
       "    </tr>\n",
       "    <tr>\n",
       "      <th>3</th>\n",
       "      <td>https://lenta.ru/news/2019/04/02/nato/</td>\n",
       "      <td>2019-04-02T10:52:00+03:00</td>\n",
       "      <td>Прибалты захотели видеть у себя больше америка...</td>\n",
       "      <td>Эстония выступает за обеспечение регулярного р...</td>\n",
       "    </tr>\n",
       "    <tr>\n",
       "      <th>4</th>\n",
       "      <td>https://lenta.ru/news/2019/02/01/frigate/</td>\n",
       "      <td>2019-02-01T19:05:00+03:00</td>\n",
       "      <td>Отверстие «Фрегата» устранили</td>\n",
       "      <td>Микроотверстие, обнаруженное в российском разг...</td>\n",
       "    </tr>\n",
       "  </tbody>\n",
       "</table>\n",
       "</div>"
      ],
      "text/plain": [
       "                                             url                       date  \\\n",
       "0  https://lenta.ru/news/2019/05/22/gotepisodes/  2019-05-22T17:36:00+03:00   \n",
       "1    https://lenta.ru/news/2019/01/09/challenge/  2019-01-09T18:16:00+03:00   \n",
       "2          https://lenta.ru/news/2019/01/29/x35/  2019-01-29T19:53:00+03:00   \n",
       "3         https://lenta.ru/news/2019/04/02/nato/  2019-04-02T10:52:00+03:00   \n",
       "4      https://lenta.ru/news/2019/02/01/frigate/  2019-02-01T19:05:00+03:00   \n",
       "\n",
       "                                       news_headline  \\\n",
       "0              Названа лучшая серия «Игры престолов»   \n",
       "1  Россию причислили к «внешним вызовам» для Евро...   \n",
       "2  Создатель супероружия России признал ракетные ...   \n",
       "3  Прибалты захотели видеть у себя больше америка...   \n",
       "4                      Отверстие «Фрегата» устранили   \n",
       "\n",
       "                                           news_body  \n",
       "0  Британское издание The Guardian составило рейт...  \n",
       "1  Заместитель председателя Европейской комиссии ...  \n",
       "2  Украина способна разрабатывать ракетное вооруж...  \n",
       "3  Эстония выступает за обеспечение регулярного р...  \n",
       "4  Микроотверстие, обнаруженное в российском разг...  "
      ]
     },
     "execution_count": 4,
     "metadata": {},
     "output_type": "execute_result"
    },
    {
     "data": {
      "text/html": [
       "<div>\n",
       "<style scoped>\n",
       "    .dataframe tbody tr th:only-of-type {\n",
       "        vertical-align: middle;\n",
       "    }\n",
       "\n",
       "    .dataframe tbody tr th {\n",
       "        vertical-align: top;\n",
       "    }\n",
       "\n",
       "    .dataframe thead th {\n",
       "        text-align: right;\n",
       "    }\n",
       "</style>\n",
       "<table border=\"1\" class=\"dataframe\">\n",
       "  <thead>\n",
       "    <tr style=\"text-align: right;\">\n",
       "      <th></th>\n",
       "      <th>url</th>\n",
       "      <th>date</th>\n",
       "      <th>news_headline</th>\n",
       "      <th>news_body</th>\n",
       "    </tr>\n",
       "  </thead>\n",
       "  <tbody>\n",
       "    <tr>\n",
       "      <th>0</th>\n",
       "      <td>https://lenta.ru/news/2019/05/22/gotepisodes/</td>\n",
       "      <td>2019-05-22T17:36:00+03:00</td>\n",
       "      <td>Названа лучшая серия «Игры престолов»</td>\n",
       "      <td>Британское издание The Guardian составило рейт...</td>\n",
       "    </tr>\n",
       "    <tr>\n",
       "      <th>1</th>\n",
       "      <td>https://lenta.ru/news/2019/01/09/challenge/</td>\n",
       "      <td>2019-01-09T18:16:00+03:00</td>\n",
       "      <td>Россию причислили к «внешним вызовам» для Евро...</td>\n",
       "      <td>Заместитель председателя Европейской комиссии ...</td>\n",
       "    </tr>\n",
       "    <tr>\n",
       "      <th>2</th>\n",
       "      <td>https://lenta.ru/news/2019/01/29/x35/</td>\n",
       "      <td>2019-01-29T19:53:00+03:00</td>\n",
       "      <td>Создатель супероружия России признал ракетные ...</td>\n",
       "      <td>Украина способна разрабатывать ракетное вооруж...</td>\n",
       "    </tr>\n",
       "    <tr>\n",
       "      <th>3</th>\n",
       "      <td>https://lenta.ru/news/2019/04/02/nato/</td>\n",
       "      <td>2019-04-02T10:52:00+03:00</td>\n",
       "      <td>Прибалты захотели видеть у себя больше америка...</td>\n",
       "      <td>Эстония выступает за обеспечение регулярного р...</td>\n",
       "    </tr>\n",
       "    <tr>\n",
       "      <th>4</th>\n",
       "      <td>https://lenta.ru/news/2019/02/01/frigate/</td>\n",
       "      <td>2019-02-01T19:05:00+03:00</td>\n",
       "      <td>Отверстие «Фрегата» устранили</td>\n",
       "      <td>Микроотверстие, обнаруженное в российском разг...</td>\n",
       "    </tr>\n",
       "  </tbody>\n",
       "</table>\n",
       "</div>"
      ],
      "text/plain": [
       "                                             url                       date  \\\n",
       "0  https://lenta.ru/news/2019/05/22/gotepisodes/  2019-05-22T17:36:00+03:00   \n",
       "1    https://lenta.ru/news/2019/01/09/challenge/  2019-01-09T18:16:00+03:00   \n",
       "2          https://lenta.ru/news/2019/01/29/x35/  2019-01-29T19:53:00+03:00   \n",
       "3         https://lenta.ru/news/2019/04/02/nato/  2019-04-02T10:52:00+03:00   \n",
       "4      https://lenta.ru/news/2019/02/01/frigate/  2019-02-01T19:05:00+03:00   \n",
       "\n",
       "                                       news_headline  \\\n",
       "0              Названа лучшая серия «Игры престолов»   \n",
       "1  Россию причислили к «внешним вызовам» для Евро...   \n",
       "2  Создатель супероружия России признал ракетные ...   \n",
       "3  Прибалты захотели видеть у себя больше америка...   \n",
       "4                      Отверстие «Фрегата» устранили   \n",
       "\n",
       "                                           news_body  \n",
       "0  Британское издание The Guardian составило рейт...  \n",
       "1  Заместитель председателя Европейской комиссии ...  \n",
       "2  Украина способна разрабатывать ракетное вооруж...  \n",
       "3  Эстония выступает за обеспечение регулярного р...  \n",
       "4  Микроотверстие, обнаруженное в российском разг...  "
      ]
     },
     "execution_count": 4,
     "metadata": {},
     "output_type": "execute_result"
    }
   ],
   "source": [
    "df_news.head()"
   ]
  },
  {
   "cell_type": "code",
   "execution_count": 5,
   "metadata": {},
   "outputs": [],
   "source": [
    "df_news['news'] = df_news.news_headline + df_news.news_body"
   ]
  },
  {
   "cell_type": "code",
   "execution_count": 6,
   "metadata": {},
   "outputs": [],
   "source": [
    "df_news.news = df_news.news.astype(str)"
   ]
  },
  {
   "cell_type": "code",
   "execution_count": 7,
   "metadata": {},
   "outputs": [],
   "source": [
    "df_news['news'] = df_news.news.apply(lambda row: row.lower())"
   ]
  },
  {
   "cell_type": "code",
   "execution_count": 8,
   "metadata": {},
   "outputs": [],
   "source": [
    "corpus = [news for news in df_news.news]"
   ]
  },
  {
   "cell_type": "code",
   "execution_count": 9,
   "metadata": {},
   "outputs": [
    {
     "name": "stderr",
     "output_type": "stream",
     "text": [
      "/Users/vitaly/PycharmProjects/chelgu_nlp_labs/venv/lib/python3.7/site-packages/ipykernel_launcher.py:3: TqdmDeprecationWarning: This function will be removed in tqdm==5.0.0\n",
      "Please use `tqdm.notebook.tqdm` instead of `tqdm.tqdm_notebook`\n",
      "  This is separate from the ipykernel package so we can avoid doing imports until\n",
      "/Users/vitaly/PycharmProjects/chelgu_nlp_labs/venv/lib/python3.7/site-packages/ipykernel_launcher.py:3: TqdmDeprecationWarning: This function will be removed in tqdm==5.0.0\n",
      "Please use `tqdm.notebook.tqdm` instead of `tqdm.tqdm_notebook`\n",
      "  This is separate from the ipykernel package so we can avoid doing imports until\n"
     ]
    },
    {
     "data": {
      "application/vnd.jupyter.widget-view+json": {
       "model_id": "c48c417ed8134bfe9fcedfeba801aa37",
       "version_major": 2,
       "version_minor": 0
      },
      "text/plain": [
       "HBox(children=(FloatProgress(value=0.0, max=103176.0), HTML(value='')))"
      ]
     },
     "metadata": {},
     "output_type": "display_data"
    },
    {
     "data": {
      "application/vnd.jupyter.widget-view+json": {
       "model_id": "c48c417ed8134bfe9fcedfeba801aa37",
       "version_major": 2,
       "version_minor": 0
      },
      "text/plain": [
       "HBox(children=(FloatProgress(value=0.0, max=103176.0), HTML(value='')))"
      ]
     },
     "metadata": {},
     "output_type": "display_data"
    },
    {
     "name": "stdout",
     "output_type": "stream",
     "text": [
      "\n",
      "\n"
     ]
    }
   ],
   "source": [
    "corpus = []\n",
    "\n",
    "for news in tqdm_notebook(df_news.news):\n",
    "    for sentence in news.split('.'):\n",
    "        sentence = sentence.strip()\n",
    "        for word in ['<s>'] + sentence.split() + ['</s>']:\n",
    "            corpus.append(word)"
   ]
  },
  {
   "cell_type": "code",
   "execution_count": 10,
   "metadata": {},
   "outputs": [
    {
     "name": "stderr",
     "output_type": "stream",
     "text": [
      "100%|██████████| 27509690/27509690 [04:46<00:00, 95949.23it/s] \n",
      "\n"
     ]
    }
   ],
   "source": [
    "model = BigramModel(corpus)"
   ]
  },
  {
   "cell_type": "code",
   "execution_count": null,
   "metadata": {},
   "outputs": [],
   "source": []
  },
  {
   "cell_type": "code",
   "execution_count": 16,
   "metadata": {},
   "outputs": [
    {
     "data": {
      "text/plain": [
       "'со'"
      ]
     },
     "execution_count": 16,
     "metadata": {},
     "output_type": "execute_result"
    },
    {
     "data": {
      "text/plain": [
       "'со'"
      ]
     },
     "execution_count": 16,
     "metadata": {},
     "output_type": "execute_result"
    }
   ],
   "source": [
    "model.get_random_nearest_word('новости')"
   ]
  },
  {
   "cell_type": "code",
   "execution_count": 17,
   "metadata": {},
   "outputs": [
    {
     "data": {
      "text/plain": [
       "'<s> что бы в том числе, в пресс-службе </s> перевалки грузов и не только на сайте'"
      ]
     },
     "execution_count": 17,
     "metadata": {},
     "output_type": "execute_result"
    },
    {
     "data": {
      "text/plain": [
       "'<s> что бы в том числе, в пресс-службе </s> перевалки грузов и не только на сайте'"
      ]
     },
     "execution_count": 17,
     "metadata": {},
     "output_type": "execute_result"
    }
   ],
   "source": [
    "model.random_continue_sentence('что бы  ', 15)"
   ]
  },
  {
   "cell_type": "code",
   "execution_count": null,
   "metadata": {},
   "outputs": [],
   "source": []
  }
 ],
 "metadata": {
  "kernelspec": {
   "display_name": "Python 3",
   "language": "python",
   "name": "python3"
  },
  "language_info": {
   "codemirror_mode": {
    "name": "ipython",
    "version": 3
   },
   "file_extension": ".py",
   "mimetype": "text/x-python",
   "name": "python",
   "nbconvert_exporter": "python",
   "pygments_lexer": "ipython3",
   "version": "3.7.4"
  }
 },
 "nbformat": 4,
 "nbformat_minor": 2
}
