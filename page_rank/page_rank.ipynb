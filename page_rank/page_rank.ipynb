{
 "cells": [
  {
   "cell_type": "code",
   "execution_count": 63,
   "metadata": {},
   "outputs": [],
   "source": [
    "from bs4 import BeautifulSoup\n",
    "import re\n",
    "import urllib\n",
    "from collections import defaultdict\n",
    "import os\n",
    "import numpy as np\n",
    "from tqdm import tqdm_notebook\n",
    "\n",
    "\n",
    "def decode(decode_string):\n",
    "    return urllib.parse.unquote(decode_string)\n",
    "\n",
    "def find_matches(data):\n",
    "    matchs = re.findall('/wiki/[\\d\\w%_:]*', data)\n",
    "    matchs = [m.split('/wiki/')[1] for m in matchs]\n",
    "    return matchs"
   ]
  },
  {
   "cell_type": "code",
   "execution_count": 64,
   "metadata": {},
   "outputs": [],
   "source": [
    "with open('data/raw/Ambassador_Satch.html') as f:\n",
    "    data = f.read()"
   ]
  },
  {
   "cell_type": "code",
   "execution_count": 65,
   "metadata": {},
   "outputs": [
    {
     "data": {
      "text/plain": [
       "['%d0%97%d0%b0%d0%b3%d0%bb%d0%b0%d0%b2%d0%bd%d0%b0%d1%8f_%d1%81%d1%82%d1%80%d0%b0%d0%bd%d0%b8%d1%86%d0%b0',\n",
       " '%d0%a1%d0%bb%d1%83%d0%b6%d0%b5%d0%b1%d0%bd%d0%b0%d1%8f:%d0%a1%d0%bb%d1%83%d1%87%d0%b0%d0%b9%d0%bd%d0%b0%d1%8f_%d1%81%d1%82%d1%80%d0%b0%d0%bd%d0%b8%d1%86%d0%b0',\n",
       " '%d0%a1%d0%bb%d1%83%d0%b6%d0%b5%d0%b1%d0%bd%d0%b0%d1%8f:%d0%9f%d0%be%d0%b1%d0%bb%d0%b8%d0%b7%d0%be%d1%81%d1%82%d0%b8',\n",
       " '%d0%92%d0%b8%d0%ba%d0%b8%d0%bf%d0%b5%d0%b4%d0%b8%d1%8f:%d0%9e%d0%bf%d0%b8%d1%81%d0%b0%d0%bd%d0%b8%d0%b5',\n",
       " '%d0%92%d0%b8%d0%ba%d0%b8%d0%bf%d0%b5%d0%b4%d0%b8%d1%8f:%d0%9e%d1%82%d0%ba%d0%b0%d0%b7_%d0%be%d1%82_%d0%be%d1%82%d0%b2%d0%b5%d1%82%d1%81%d1%82%d0%b2%d0%b5%d0%bd%d0%bd%d0%be%d1%81%d1%82%d0%b8',\n",
       " 'ambassador_satch',\n",
       " 'ambassador_satch',\n",
       " '%d0%a1%d0%bb%d1%83%d0%b6%d0%b5%d0%b1%d0%bd%d0%b0%d1%8f:%d0%9c%d0%be%d0%b1%d0%b8%d0%bb%d1%8c%d0%bd%d0%be%d0%b5_%d0%bc%d0%b5%d0%bd%d1%8e',\n",
       " '%d0%a4%d0%b0%d0%b9%d0%bb:ambassador_satch',\n",
       " '%d0%9a%d0%be%d0%bd%d1%86%d0%b5%d1%80%d1%82%d0%bd%d1%8b%d0%b9_%d0%b0%d0%bb%d1%8c%d0%b1%d0%be%d0%bc',\n",
       " '%d0%9c%d1%83%d0%b7%d1%8b%d0%ba%d0%b0%d0%bb%d1%8c%d0%bd%d1%8b%d0%b9_%d0%b6%d0%b0%d0%bd%d1%80',\n",
       " '%d0%94%d0%b6%d0%b0%d0%b7',\n",
       " '%d0%a1%d1%82%d1%80%d0%b0%d0%bd%d0%b0',\n",
       " '%d0%a1%d0%be%d0%b5%d0%b4%d0%b8%d0%bd%d1%91%d0%bd%d0%bd%d1%8b%d0%b5_%d0%a8%d1%82%d0%b0%d1%82%d1%8b_%d0%90%d0%bc%d0%b5%d1%80%d0%b8%d0%ba%d0%b8',\n",
       " '%d0%a1%d0%be%d0%b5%d0%b4%d0%b8%d0%bd%d1%91%d0%bd%d0%bd%d1%8b%d0%b5_%d0%a8%d1%82%d0%b0%d1%82%d1%8b_%d0%90%d0%bc%d0%b5%d1%80%d0%b8%d0%ba%d0%b8',\n",
       " '%d0%9b%d0%b5%d0%b9%d0%b1%d0%bb_%d0%b7%d0%b2%d1%83%d0%ba%d0%be%d0%b7%d0%b0%d0%bf%d0%b8%d1%81%d0%b8',\n",
       " 'columbia_records',\n",
       " 'allmusic',\n",
       " '%d0%9a%d0%be%d0%bd%d1%86%d0%b5%d1%80%d1%82%d0%bd%d1%8b%d0%b9_%d0%b0%d0%bb%d1%8c%d0%b1%d0%be%d0%bc',\n",
       " '%d0%90%d1%80%d0%bc%d1%81%d1%82%d1%80%d0%be%d0%bd%d0%b3',\n",
       " '1955_%d0%b3%d0%be%d0%b4',\n",
       " '%d0%9c%d0%b8%d0%bb%d0%b0%d0%bd',\n",
       " '%d0%90%d0%bc%d1%81%d1%82%d0%b5%d1%80%d0%b4%d0%b0%d0%bc',\n",
       " '%d0%9d%d1%8c%d1%8e',\n",
       " '%d0%93%d0%be%d0%bb%d0%bb%d0%b8%d0%b2%d1%83%d0%b4',\n",
       " 'discogs',\n",
       " 'special:centralautologin',\n",
       " '%d0%a1%d0%bb%d1%83%d0%b6%d0%b5%d0%b1%d0%bd%d0%b0%d1%8f:history',\n",
       " 'privacy_policy']"
      ]
     },
     "execution_count": 65,
     "metadata": {},
     "output_type": "execute_result"
    }
   ],
   "source": [
    "find_matches(data)"
   ]
  },
  {
   "cell_type": "code",
   "execution_count": null,
   "metadata": {},
   "outputs": [],
   "source": []
  },
  {
   "cell_type": "code",
   "execution_count": null,
   "metadata": {},
   "outputs": [],
   "source": [
    "\n"
   ]
  },
  {
   "cell_type": "code",
   "execution_count": null,
   "metadata": {},
   "outputs": [],
   "source": []
  },
  {
   "cell_type": "code",
   "execution_count": 66,
   "metadata": {},
   "outputs": [
    {
     "data": {
      "text/plain": [
       "HBox(children=(IntProgress(value=0, max=2379), HTML(value='')))"
      ]
     },
     "metadata": {},
     "output_type": "display_data"
    },
    {
     "name": "stdout",
     "output_type": "stream",
     "text": [
      "\n"
     ]
    }
   ],
   "source": [
    "htmls = os.listdir('data/raw/')\n",
    "\n",
    "htmls = [html.lower() for html in htmls]\n",
    "\n",
    "indexs = dict()\n",
    "names = dict()\n",
    "\n",
    "for num, html in enumerate(htmls):\n",
    "    indexs[html] = num\n",
    "    names[num] = html\n",
    "\n",
    "matrix = np.zeros((len(indexs), len(indexs)))\n",
    "\n",
    "for html in tqdm_notebook(htmls):\n",
    "    \n",
    "    with open(f'data/raw/{html}') as f:\n",
    "        data = f.read()\n",
    "        \n",
    "    links = find_matches(data)\n",
    "    for link in links:\n",
    "        decode_link = decode(link).lower()\n",
    "        decode_link = decode_link + '.html'\n",
    "        if decode_link in htmls and decode_link != html:\n",
    "            \n",
    "            current_page_index = indexs[html]\n",
    "            index = indexs[decode_link]\n",
    "            matrix[current_page_index][index] += 1"
   ]
  },
  {
   "cell_type": "code",
   "execution_count": 67,
   "metadata": {},
   "outputs": [],
   "source": [
    "page_rank_matrix = (matrix.transpose() / matrix.sum(axis=1)).transpose()"
   ]
  },
  {
   "cell_type": "code",
   "execution_count": 68,
   "metadata": {},
   "outputs": [],
   "source": [
    "random_vector = np.ones(len(indexs)) / len(indexs)"
   ]
  },
  {
   "cell_type": "code",
   "execution_count": 69,
   "metadata": {},
   "outputs": [],
   "source": [
    "for i in range(1000):\n",
    "    random_vector = page_rank_matrix.transpose().dot(random_vector)"
   ]
  },
  {
   "cell_type": "code",
   "execution_count": 70,
   "metadata": {},
   "outputs": [
    {
     "data": {
      "text/plain": [
       "0.0004203446826397646"
      ]
     },
     "execution_count": 70,
     "metadata": {},
     "output_type": "execute_result"
    }
   ],
   "source": [
    "1 / len(indexs)"
   ]
  },
  {
   "cell_type": "code",
   "execution_count": 71,
   "metadata": {},
   "outputs": [],
   "source": [
    "top_pages = random_vector.argsort()[::-1]"
   ]
  },
  {
   "cell_type": "code",
   "execution_count": 72,
   "metadata": {},
   "outputs": [
    {
     "name": "stdout",
     "output_type": "stream",
     "text": [
      "заглавная_страница.html\n",
      "сша.html\n",
      "великобритания.html\n",
      "франция.html\n",
      "ссср.html\n",
      "большая_советская_энциклопедия.html\n",
      "германия.html\n",
      "канада.html\n",
      "лондон.html\n",
      "xx_век.html\n"
     ]
    }
   ],
   "source": [
    "for page in top_pages[:10]:\n",
    "    print(names[page])"
   ]
  },
  {
   "cell_type": "code",
   "execution_count": 73,
   "metadata": {},
   "outputs": [],
   "source": [
    "arm_top_pages = [names[page] for page in top_pages if 'армстронг' in names[page]]"
   ]
  },
  {
   "cell_type": "code",
   "execution_count": 74,
   "metadata": {},
   "outputs": [
    {
     "name": "stdout",
     "output_type": "stream",
     "text": [
      "армстронг.html\n",
      "клан_армстронг.html\n",
      "билли_джо_армстронг.html\n",
      "пушка_армстронга.html\n",
      "армстронг,_джеймс.html\n",
      "армстронг,_томас.html\n",
      "армстронг,_джон.html\n",
      "армстронг_(фамилия).html\n",
      "армстронг,_скотт.html\n",
      "армстронг,_джо.html\n",
      "армстронг,_джеймс_(борец).html\n",
      "армстронг_(округ,_пенсильвания).html\n",
      "армстронг,_арчибальд.html\n",
      "армстронг,_адам_(футболист).html\n",
      "армстронг,_бесс.html\n",
      "армстронг,_скотт_(баскетболист).html\n",
      "армстронг,_самира.html\n",
      "армстронг,_чарльз.html\n",
      "армстронг,_уильям_джордж.html\n",
      "армстронг,_джон_(поэт).html\n",
      "армстронг_(лунный_кратер).html\n",
      "армстронг,_карен.html\n",
      "армстронг,_эдвин.html\n",
      "армстронг,_уильям_лестер.html\n",
      "армстронг,_дилан.html\n",
      "армстронг,_даррелл.html\n",
      "армстронг,_нил_олден.html\n",
      "армстронг,_роберт_голден.html\n",
      "армстронг,_тим.html\n",
      "армстронг,_вик.html\n",
      "армстронг,_джонас.html\n",
      "армстронг,_алан.html\n",
      "армстронг,_джиллиан.html\n",
      "армстронг,_дебби.html\n",
      "армстронг,_стюарт.html\n",
      "армстронг,_джон_александр.html\n",
      "армстронг,_би_джей.html\n",
      "армстронг,_билли_джо.html\n",
      "армстронг,_джерри.html\n",
      "армстронг,_роберт.html\n",
      "армстронг,_луи.html\n",
      "армстронг_(округ,_техас).html\n",
      "армстронг,_крэйг.html\n",
      "армстронг,_генри_эдвард.html\n",
      "армстронг,_нил.html\n",
      "армстронг_(округ).html\n",
      "армстронг-уитворт.html\n",
      "армстронг,_роман_адамович.html\n",
      "армстронг,_артур_хилари.html\n",
      "армстронг,_десмонд.html\n",
      "армстронг,_дэвид.html\n",
      "армстронг,_адам_васильевич.html\n",
      "армстронг,_дженни.html\n",
      "армстронг,_кристин.html\n",
      "армстронг,_рой_фрейзер.html\n",
      "армстронг,_кёрли.html\n",
      "армстронг,_генри_(боксёр).html\n",
      "армстронг,_лэнс.html\n",
      "армстронг,_колби.html\n"
     ]
    }
   ],
   "source": [
    "for i in arm_top_pages:\n",
    "    print(i)"
   ]
  },
  {
   "cell_type": "code",
   "execution_count": 12,
   "metadata": {},
   "outputs": [
    {
     "data": {
      "text/plain": [
       "True"
      ]
     },
     "execution_count": 12,
     "metadata": {},
     "output_type": "execute_result"
    }
   ],
   "source": [
    "'Заглавная_страница.html' in htmls"
   ]
  },
  {
   "cell_type": "code",
   "execution_count": null,
   "metadata": {},
   "outputs": [],
   "source": []
  }
 ],
 "metadata": {
  "kernelspec": {
   "display_name": "Python 3",
   "language": "python",
   "name": "python3"
  },
  "language_info": {
   "codemirror_mode": {
    "name": "ipython",
    "version": 3
   },
   "file_extension": ".py",
   "mimetype": "text/x-python",
   "name": "python",
   "nbconvert_exporter": "python",
   "pygments_lexer": "ipython3",
   "version": "3.7.3"
  }
 },
 "nbformat": 4,
 "nbformat_minor": 2
}
